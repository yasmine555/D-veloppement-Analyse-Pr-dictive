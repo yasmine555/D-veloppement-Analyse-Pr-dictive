{
 "cells": [
  {
   "cell_type": "code",
   "execution_count": null,
   "id": "4262ceb5",
   "metadata": {},
   "outputs": [],
   "source": [
    "# 📦 Imports\n",
    "import pandas as pd\n",
    "import matplotlib.pyplot as plt\n",
    "import seaborn as sns\n",
    "import plotly.express as px\n",
    "import sys, os\n",
    "\n",
    "# 🔄 Ajouter src/ au path\n",
    "sys.path.append(os.path.abspath(\"../src\"))\n",
    "\n",
    "from covid_connector import get_covid_data\n",
    "\n",
    "# 📍 Paramètres\n",
    "country = \"Tunisia\"\n",
    "days = 60  # Nombre de jours à récupérer\n",
    "\n",
    "# 📊 Chargement des données\n",
    "df = get_covid_data(country, days)\n",
    "\n",
    "# ✅ Aperçu\n",
    "print(\"✅ Données chargées avec succès !\")\n",
    "df.head()\n"
   ]
  },
  {
   "cell_type": "code",
   "execution_count": null,
   "id": "59ce238d",
   "metadata": {},
   "outputs": [],
   "source": [
    "# 📈 Visualisation des cas cumulés (matplotlib)\n",
    "plt.figure(figsize=(10,5))\n",
    "plt.plot(df[\"date\"], df[\"cases\"], label=\"Cas confirmés\", color=\"blue\")\n",
    "plt.plot(df[\"date\"], df[\"deaths\"], label=\"Décès\", color=\"red\")\n",
    "plt.title(f\"📊 COVID-19 – {country} (derniers {days} jours)\")\n",
    "plt.xlabel(\"Date\")\n",
    "plt.ylabel(\"Nombre de cas\")\n",
    "plt.legend()\n",
    "plt.grid(True)\n",
    "plt.tight_layout()\n",
    "plt.show()\n"
   ]
  },
  {
   "cell_type": "code",
   "execution_count": null,
   "id": "ed10e676",
   "metadata": {},
   "outputs": [],
   "source": [
    "# 🔍 Variation quotidienne (nouvelles infections)\n",
    "df[\"new_cases\"] = df[\"cases\"].diff()\n",
    "df[\"new_deaths\"] = df[\"deaths\"].diff()\n",
    "\n",
    "# 📊 Plot quotidien avec Seaborn\n",
    "plt.figure(figsize=(12,5))\n",
    "sns.lineplot(x=\"date\", y=\"new_cases\", data=df, label=\"Nouveaux cas\")\n",
    "sns.lineplot(x=\"date\", y=\"new_deaths\", data=df, label=\"Nouveaux décès\", color=\"red\")\n",
    "plt.title(f\"📊 Nouveaux cas quotidiens – {country}\")\n",
    "plt.ylabel(\"Nombre\")\n",
    "plt.xticks(rotation=45)\n",
    "plt.grid()\n",
    "plt.legend()\n",
    "plt.tight_layout()\n",
    "plt.show()\n"
   ]
  },
  {
   "cell_type": "code",
   "execution_count": null,
   "id": "b113e3b3",
   "metadata": {},
   "outputs": [],
   "source": [
    "# 🌍 Plot interactif avec Plotly\n",
    "fig = px.line(df, x=\"date\", y=[\"cases\", \"deaths\"], title=f\"🌐 Cas et décès cumulés – {country}\")\n",
    "fig.update_layout(legend_title_text='Évolution')\n",
    "fig.show()\n"
   ]
  },
  {
   "cell_type": "code",
   "execution_count": null,
   "id": "62343186",
   "metadata": {},
   "outputs": [],
   "source": [
    "# 💡 Comparaison multi-pays rapide (optionnel)\n",
    "countries = [\"Tunisia\", \"France\", \"Morocco\"]\n",
    "\n",
    "dfs = []\n",
    "for c in countries:\n",
    "    temp = get_covid_data(c, days=30)\n",
    "    temp[\"country\"] = c\n",
    "    dfs.append(temp)\n",
    "\n",
    "df_all = pd.concat(dfs)\n",
    "\n",
    "# 🔄 Courbes interactives par pays\n",
    "fig = px.line(df_all, x=\"date\", y=\"new_cases\", color=\"country\",\n",
    "              title=\"📈 Nouveaux cas COVID – Comparaison entre pays\")\n",
    "fig.update_layout(xaxis_title=\"Date\", yaxis_title=\"Nouveaux cas\")\n",
    "fig.show()\n"
   ]
  },
  {
   "cell_type": "code",
   "execution_count": null,
   "id": "7df6ca81",
   "metadata": {},
   "outputs": [],
   "source": []
  }
 ],
 "metadata": {
  "language_info": {
   "name": "python"
  }
 },
 "nbformat": 4,
 "nbformat_minor": 5
}
