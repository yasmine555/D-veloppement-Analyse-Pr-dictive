{
 "cells": [
  {
   "cell_type": "code",
   "execution_count": null,
   "id": "870f86c8",
   "metadata": {},
   "outputs": [],
   "source": [
    "\n",
    "import pandas as pd\n",
    "import plotly.express as px\n",
    "import os, sys\n",
    "from prophet import Prophet\n",
    "from datetime import timedelta\n",
    "\n",
    "# Pour import depuis src/\n",
    "sys.path.append(os.path.abspath(\"../src\"))\n",
    "from weather_connector import get_weather_forecast\n"
   ]
  },
  {
   "cell_type": "code",
   "execution_count": null,
   "id": "258e5101",
   "metadata": {},
   "outputs": [],
   "source": [
    "\n",
    "# 📍 Ville cible\n",
    "ville = \"Tunis\"\n",
    "data = get_weather_forecast(ville)\n",
    "df = pd.DataFrame(data)\n",
    "df[\"datetime\"] = pd.to_datetime(df[\"datetime\"])\n",
    "df = df[[\"datetime\", \"temp\"]].rename(columns={\"datetime\": \"ds\", \"temp\": \"y\"})\n",
    "df.head()\n"
   ]
  },
  {
   "cell_type": "code",
   "execution_count": null,
   "id": "5f736d26",
   "metadata": {},
   "outputs": [],
   "source": [
    "\n",
    "# 📈 Création et entraînement du modèle Prophet\n",
    "model = Prophet()\n",
    "model.fit(df)\n"
   ]
  },
  {
   "cell_type": "code",
   "execution_count": null,
   "id": "3c853338",
   "metadata": {},
   "outputs": [],
   "source": [
    "\n",
    "# 🔮 Prédire les prochaines 72 heures (~24 points de 3h)\n",
    "future = model.make_future_dataframe(periods=24, freq='3H')\n",
    "forecast = model.predict(future)\n",
    "forecast[[\"ds\", \"yhat\", \"yhat_lower\", \"yhat_upper\"]].tail()\n"
   ]
  },
  {
   "cell_type": "code",
   "execution_count": null,
   "id": "0ccb3078",
   "metadata": {},
   "outputs": [],
   "source": [
    "\n",
    "# 📊 Visualisation des prédictions avec Plotly\n",
    "fig = px.line()\n",
    "fig.add_scatter(x=forecast[\"ds\"], y=forecast[\"yhat\"], name=\"Prévision\")\n",
    "fig.add_scatter(x=df[\"ds\"], y=df[\"y\"], name=\"Temp réelle\")\n",
    "fig.update_layout(title=f\"🔮 Prévision de température – {ville}\", xaxis_title=\"Date\", yaxis_title=\"Température (°C)\")\n",
    "fig.show()\n"
   ]
  },
  {
   "cell_type": "code",
   "execution_count": null,
   "id": "c1522aac",
   "metadata": {},
   "outputs": [],
   "source": [
    "\n",
    "# Comparaison sur les points connus\n",
    "merged = pd.merge(df, forecast[[\"ds\", \"yhat\"]], on=\"ds\", how=\"left\")\n",
    "merged.dropna(inplace=True)\n",
    "mae = abs(merged[\"y\"] - merged[\"yhat\"]).mean()\n",
    "print(f\"📉 MAE (Erreur absolue moyenne) : {mae:.2f} °C\")\n"
   ]
  }
 ],
 "metadata": {},
 "nbformat": 4,
 "nbformat_minor": 5
}
