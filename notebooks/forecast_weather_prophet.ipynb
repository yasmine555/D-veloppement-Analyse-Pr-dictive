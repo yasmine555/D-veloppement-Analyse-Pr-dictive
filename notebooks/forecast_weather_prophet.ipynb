{
 "cells": [
  {
   "cell_type": "code",
   "execution_count": 1,
   "id": "870f86c8",
   "metadata": {},
   "outputs": [],
   "source": [
    "\n",
    "import pandas as pd\n",
    "import plotly.express as px\n",
    "import os, sys\n",
    "from prophet import Prophet\n",
    "from datetime import timedelta\n",
    "\n",
    "# Pour import depuis src/\n",
    "sys.path.append(os.path.abspath(\"../src\"))\n",
    "from weather_connector import get_weather_forecast\n"
   ]
  },
  {
   "cell_type": "code",
   "execution_count": 2,
   "id": "258e5101",
   "metadata": {},
   "outputs": [
    {
     "data": {
      "text/html": [
       "<div>\n",
       "<style scoped>\n",
       "    .dataframe tbody tr th:only-of-type {\n",
       "        vertical-align: middle;\n",
       "    }\n",
       "\n",
       "    .dataframe tbody tr th {\n",
       "        vertical-align: top;\n",
       "    }\n",
       "\n",
       "    .dataframe thead th {\n",
       "        text-align: right;\n",
       "    }\n",
       "</style>\n",
       "<table border=\"1\" class=\"dataframe\">\n",
       "  <thead>\n",
       "    <tr style=\"text-align: right;\">\n",
       "      <th></th>\n",
       "      <th>ds</th>\n",
       "      <th>y</th>\n",
       "    </tr>\n",
       "  </thead>\n",
       "  <tbody>\n",
       "    <tr>\n",
       "      <th>0</th>\n",
       "      <td>2025-08-03 21:00:00</td>\n",
       "      <td>29.73</td>\n",
       "    </tr>\n",
       "    <tr>\n",
       "      <th>1</th>\n",
       "      <td>2025-08-04 00:00:00</td>\n",
       "      <td>28.05</td>\n",
       "    </tr>\n",
       "    <tr>\n",
       "      <th>2</th>\n",
       "      <td>2025-08-04 03:00:00</td>\n",
       "      <td>25.95</td>\n",
       "    </tr>\n",
       "    <tr>\n",
       "      <th>3</th>\n",
       "      <td>2025-08-04 06:00:00</td>\n",
       "      <td>26.27</td>\n",
       "    </tr>\n",
       "    <tr>\n",
       "      <th>4</th>\n",
       "      <td>2025-08-04 09:00:00</td>\n",
       "      <td>31.57</td>\n",
       "    </tr>\n",
       "  </tbody>\n",
       "</table>\n",
       "</div>"
      ],
      "text/plain": [
       "                   ds      y\n",
       "0 2025-08-03 21:00:00  29.73\n",
       "1 2025-08-04 00:00:00  28.05\n",
       "2 2025-08-04 03:00:00  25.95\n",
       "3 2025-08-04 06:00:00  26.27\n",
       "4 2025-08-04 09:00:00  31.57"
      ]
     },
     "execution_count": 2,
     "metadata": {},
     "output_type": "execute_result"
    }
   ],
   "source": [
    "\n",
    "# 📍 Ville cible\n",
    "ville = \"Tunis\"\n",
    "data = get_weather_forecast(ville)\n",
    "df = pd.DataFrame(data)\n",
    "df[\"datetime\"] = pd.to_datetime(df[\"datetime\"])\n",
    "df = df[[\"datetime\", \"temp\"]].rename(columns={\"datetime\": \"ds\", \"temp\": \"y\"})\n",
    "df.head()\n"
   ]
  },
  {
   "cell_type": "code",
   "execution_count": 3,
   "id": "5f736d26",
   "metadata": {},
   "outputs": [
    {
     "name": "stderr",
     "output_type": "stream",
     "text": [
      "19:15:15 - cmdstanpy - INFO - Chain [1] start processing\n",
      "19:15:17 - cmdstanpy - INFO - Chain [1] done processing\n"
     ]
    },
    {
     "data": {
      "text/plain": [
       "<prophet.forecaster.Prophet at 0x2013d242720>"
      ]
     },
     "execution_count": 3,
     "metadata": {},
     "output_type": "execute_result"
    }
   ],
   "source": [
    "\n",
    "# 📈 Création et entraînement du modèle Prophet\n",
    "model = Prophet()\n",
    "model.fit(df)\n"
   ]
  },
  {
   "cell_type": "code",
   "execution_count": 4,
   "id": "3c853338",
   "metadata": {},
   "outputs": [
    {
     "name": "stderr",
     "output_type": "stream",
     "text": [
      "c:\\projet_stage_ete_2025\\.venv\\Lib\\site-packages\\prophet\\forecaster.py:1872: FutureWarning: 'H' is deprecated and will be removed in a future version, please use 'h' instead.\n",
      "  dates = pd.date_range(\n"
     ]
    },
    {
     "data": {
      "text/html": [
       "<div>\n",
       "<style scoped>\n",
       "    .dataframe tbody tr th:only-of-type {\n",
       "        vertical-align: middle;\n",
       "    }\n",
       "\n",
       "    .dataframe tbody tr th {\n",
       "        vertical-align: top;\n",
       "    }\n",
       "\n",
       "    .dataframe thead th {\n",
       "        text-align: right;\n",
       "    }\n",
       "</style>\n",
       "<table border=\"1\" class=\"dataframe\">\n",
       "  <thead>\n",
       "    <tr style=\"text-align: right;\">\n",
       "      <th></th>\n",
       "      <th>ds</th>\n",
       "      <th>yhat</th>\n",
       "      <th>yhat_lower</th>\n",
       "      <th>yhat_upper</th>\n",
       "    </tr>\n",
       "  </thead>\n",
       "  <tbody>\n",
       "    <tr>\n",
       "      <th>59</th>\n",
       "      <td>2025-08-11 06:00:00</td>\n",
       "      <td>24.466512</td>\n",
       "      <td>23.388247</td>\n",
       "      <td>25.480710</td>\n",
       "    </tr>\n",
       "    <tr>\n",
       "      <th>60</th>\n",
       "      <td>2025-08-11 09:00:00</td>\n",
       "      <td>29.663755</td>\n",
       "      <td>28.551420</td>\n",
       "      <td>30.778194</td>\n",
       "    </tr>\n",
       "    <tr>\n",
       "      <th>61</th>\n",
       "      <td>2025-08-11 12:00:00</td>\n",
       "      <td>33.653001</td>\n",
       "      <td>32.524568</td>\n",
       "      <td>34.749878</td>\n",
       "    </tr>\n",
       "    <tr>\n",
       "      <th>62</th>\n",
       "      <td>2025-08-11 15:00:00</td>\n",
       "      <td>35.412267</td>\n",
       "      <td>34.196942</td>\n",
       "      <td>36.535987</td>\n",
       "    </tr>\n",
       "    <tr>\n",
       "      <th>63</th>\n",
       "      <td>2025-08-11 18:00:00</td>\n",
       "      <td>32.059644</td>\n",
       "      <td>30.882385</td>\n",
       "      <td>33.299219</td>\n",
       "    </tr>\n",
       "  </tbody>\n",
       "</table>\n",
       "</div>"
      ],
      "text/plain": [
       "                    ds       yhat  yhat_lower  yhat_upper\n",
       "59 2025-08-11 06:00:00  24.466512   23.388247   25.480710\n",
       "60 2025-08-11 09:00:00  29.663755   28.551420   30.778194\n",
       "61 2025-08-11 12:00:00  33.653001   32.524568   34.749878\n",
       "62 2025-08-11 15:00:00  35.412267   34.196942   36.535987\n",
       "63 2025-08-11 18:00:00  32.059644   30.882385   33.299219"
      ]
     },
     "execution_count": 4,
     "metadata": {},
     "output_type": "execute_result"
    }
   ],
   "source": [
    "\n",
    "# 🔮 Prédire les prochaines 72 heures (~24 points de 3h)\n",
    "future = model.make_future_dataframe(periods=24, freq='3H')\n",
    "forecast = model.predict(future)\n",
    "forecast[[\"ds\", \"yhat\", \"yhat_lower\", \"yhat_upper\"]].tail()\n"
   ]
  },
  {
   "cell_type": "code",
   "execution_count": 5,
   "id": "0ccb3078",
   "metadata": {},
   "outputs": [
    {
     "data": {
      "application/vnd.plotly.v1+json": {
       "config": {
        "plotlyServerURL": "https://plot.ly"
       },
       "data": [
        {
         "hovertemplate": "<extra></extra>",
         "legendgroup": "",
         "line": {
          "color": "#636efa",
          "dash": "solid"
         },
         "marker": {
          "symbol": "circle"
         },
         "mode": "lines",
         "name": "",
         "orientation": "v",
         "showlegend": false,
         "type": "scatter",
         "xaxis": "x",
         "yaxis": "y"
        },
        {
         "name": "Prévision",
         "type": "scatter",
         "x": [
          "2025-08-03T21:00:00.000000000",
          "2025-08-04T00:00:00.000000000",
          "2025-08-04T03:00:00.000000000",
          "2025-08-04T06:00:00.000000000",
          "2025-08-04T09:00:00.000000000",
          "2025-08-04T12:00:00.000000000",
          "2025-08-04T15:00:00.000000000",
          "2025-08-04T18:00:00.000000000",
          "2025-08-04T21:00:00.000000000",
          "2025-08-05T00:00:00.000000000",
          "2025-08-05T03:00:00.000000000",
          "2025-08-05T06:00:00.000000000",
          "2025-08-05T09:00:00.000000000",
          "2025-08-05T12:00:00.000000000",
          "2025-08-05T15:00:00.000000000",
          "2025-08-05T18:00:00.000000000",
          "2025-08-05T21:00:00.000000000",
          "2025-08-06T00:00:00.000000000",
          "2025-08-06T03:00:00.000000000",
          "2025-08-06T06:00:00.000000000",
          "2025-08-06T09:00:00.000000000",
          "2025-08-06T12:00:00.000000000",
          "2025-08-06T15:00:00.000000000",
          "2025-08-06T18:00:00.000000000",
          "2025-08-06T21:00:00.000000000",
          "2025-08-07T00:00:00.000000000",
          "2025-08-07T03:00:00.000000000",
          "2025-08-07T06:00:00.000000000",
          "2025-08-07T09:00:00.000000000",
          "2025-08-07T12:00:00.000000000",
          "2025-08-07T15:00:00.000000000",
          "2025-08-07T18:00:00.000000000",
          "2025-08-07T21:00:00.000000000",
          "2025-08-08T00:00:00.000000000",
          "2025-08-08T03:00:00.000000000",
          "2025-08-08T06:00:00.000000000",
          "2025-08-08T09:00:00.000000000",
          "2025-08-08T12:00:00.000000000",
          "2025-08-08T15:00:00.000000000",
          "2025-08-08T18:00:00.000000000",
          "2025-08-08T21:00:00.000000000",
          "2025-08-09T00:00:00.000000000",
          "2025-08-09T03:00:00.000000000",
          "2025-08-09T06:00:00.000000000",
          "2025-08-09T09:00:00.000000000",
          "2025-08-09T12:00:00.000000000",
          "2025-08-09T15:00:00.000000000",
          "2025-08-09T18:00:00.000000000",
          "2025-08-09T21:00:00.000000000",
          "2025-08-10T00:00:00.000000000",
          "2025-08-10T03:00:00.000000000",
          "2025-08-10T06:00:00.000000000",
          "2025-08-10T09:00:00.000000000",
          "2025-08-10T12:00:00.000000000",
          "2025-08-10T15:00:00.000000000",
          "2025-08-10T18:00:00.000000000",
          "2025-08-10T21:00:00.000000000",
          "2025-08-11T00:00:00.000000000",
          "2025-08-11T03:00:00.000000000",
          "2025-08-11T06:00:00.000000000",
          "2025-08-11T09:00:00.000000000",
          "2025-08-11T12:00:00.000000000",
          "2025-08-11T15:00:00.000000000",
          "2025-08-11T18:00:00.000000000"
         ],
         "y": {
          "bdata": "zVELcqVUPUAsPgvOeJE7QATMChmVADpACVqBuixaOkCneIAMVHc/QFtEzg+er0FA4AENAyOGQkBqRmLqVc5AQNAx0KJrMjxA2YuailFvOkCWfEdUegk5QCmvA3s1jjlAKmJom5PWPkDQDJM+2XRBQJCbCqz4YEJANwZavsW+QEBvb5mNbz48QFH3Prh5pjpAnpPl0cxAOUCW+QFCm8U5QBqf7U7+DT9A2ndszZGQQUBOmtaJwHxCQJVcqHOl2kBAWr87p152PEArbeeAmN46QDFemkkbeTlAM2fEaBn+OUBgd3Y4p0Y/QIfnoeT6rEFAP2+hzhyZQkBxmzLY0PZAQHJomSGmmDxAyk6MrNDqOkBw9H8mRG85QA5U6fYy3jlAcBfbd7EQP0D8AvRc+IZBQL4xk/onaEJAb48JPQW7QECwL0frDiE8QATNOXY5czpAEHYt8Kz3OECeBZfAm2Y5QFfMiEEamT5Ast/KwSxLQUBkAGpfXCxCQCVF4KE5f0BAfLD0tHepO0Awbec/ovs5QLMj27kVgDhAvmdEigTvOEBBFDYLgyE+QDKwoSZhD0FADM9AxJDwQUDgCLcGbkNAQEgxon7gMTtA1QOVCQuEOUBTpYiDfgg4QEb98VNtdzhAKcnj1OupPUBfZXiLldNAQPeaFynFtEFA3vyNa6IHQEA=",
          "dtype": "f8"
         }
        },
        {
         "name": "Temp réelle",
         "type": "scatter",
         "x": [
          "2025-08-03T21:00:00.000000000",
          "2025-08-04T00:00:00.000000000",
          "2025-08-04T03:00:00.000000000",
          "2025-08-04T06:00:00.000000000",
          "2025-08-04T09:00:00.000000000",
          "2025-08-04T12:00:00.000000000",
          "2025-08-04T15:00:00.000000000",
          "2025-08-04T18:00:00.000000000",
          "2025-08-04T21:00:00.000000000",
          "2025-08-05T00:00:00.000000000",
          "2025-08-05T03:00:00.000000000",
          "2025-08-05T06:00:00.000000000",
          "2025-08-05T09:00:00.000000000",
          "2025-08-05T12:00:00.000000000",
          "2025-08-05T15:00:00.000000000",
          "2025-08-05T18:00:00.000000000",
          "2025-08-05T21:00:00.000000000",
          "2025-08-06T00:00:00.000000000",
          "2025-08-06T03:00:00.000000000",
          "2025-08-06T06:00:00.000000000",
          "2025-08-06T09:00:00.000000000",
          "2025-08-06T12:00:00.000000000",
          "2025-08-06T15:00:00.000000000",
          "2025-08-06T18:00:00.000000000",
          "2025-08-06T21:00:00.000000000",
          "2025-08-07T00:00:00.000000000",
          "2025-08-07T03:00:00.000000000",
          "2025-08-07T06:00:00.000000000",
          "2025-08-07T09:00:00.000000000",
          "2025-08-07T12:00:00.000000000",
          "2025-08-07T15:00:00.000000000",
          "2025-08-07T18:00:00.000000000",
          "2025-08-07T21:00:00.000000000",
          "2025-08-08T00:00:00.000000000",
          "2025-08-08T03:00:00.000000000",
          "2025-08-08T06:00:00.000000000",
          "2025-08-08T09:00:00.000000000",
          "2025-08-08T12:00:00.000000000",
          "2025-08-08T15:00:00.000000000",
          "2025-08-08T18:00:00.000000000"
         ],
         "y": {
          "bdata": "exSuR+G6PUDNzMzMzAw8QDMzMzMz8zlAhetRuB5FOkBSuB6F65E/QOF6FK5HwUFArkfhehSOQkBcj8L1KNxAQOxRuB6F6zpAhetRuB4FOkApXI/C9eg4QJqZmZmZWTlASOF6FK6HPkCPwvUoXC9BQIXrUbgehUJAPQrXo3BdQUBI4XoUroc9QFyPwvUo3DpAUrgehetROUAAAAAAAMA5QLgehetReD5AKVyPwvUoQUDsUbgehQtCQFyPwvUo3EBAzczMzMzMO0Bcj8L1KFw6QFK4HoXrUTlA7FG4HoUrOkDhehSuR6E/QHsUrkfh+kFAzczMzMwMQ0AK16NwPQpBQJqZmZmZ2TxAZmZmZmYmO0AzMzMzM7M5QAAAAAAAADpAAAAAAACAP0AUrkfhetRBQJqZmZmZOUJAMzMzMzPzP0A=",
          "dtype": "f8"
         }
        }
       ],
       "layout": {
        "legend": {
         "tracegroupgap": 0
        },
        "margin": {
         "t": 60
        },
        "template": {
         "data": {
          "bar": [
           {
            "error_x": {
             "color": "#2a3f5f"
            },
            "error_y": {
             "color": "#2a3f5f"
            },
            "marker": {
             "line": {
              "color": "#E5ECF6",
              "width": 0.5
             },
             "pattern": {
              "fillmode": "overlay",
              "size": 10,
              "solidity": 0.2
             }
            },
            "type": "bar"
           }
          ],
          "barpolar": [
           {
            "marker": {
             "line": {
              "color": "#E5ECF6",
              "width": 0.5
             },
             "pattern": {
              "fillmode": "overlay",
              "size": 10,
              "solidity": 0.2
             }
            },
            "type": "barpolar"
           }
          ],
          "carpet": [
           {
            "aaxis": {
             "endlinecolor": "#2a3f5f",
             "gridcolor": "white",
             "linecolor": "white",
             "minorgridcolor": "white",
             "startlinecolor": "#2a3f5f"
            },
            "baxis": {
             "endlinecolor": "#2a3f5f",
             "gridcolor": "white",
             "linecolor": "white",
             "minorgridcolor": "white",
             "startlinecolor": "#2a3f5f"
            },
            "type": "carpet"
           }
          ],
          "choropleth": [
           {
            "colorbar": {
             "outlinewidth": 0,
             "ticks": ""
            },
            "type": "choropleth"
           }
          ],
          "contour": [
           {
            "colorbar": {
             "outlinewidth": 0,
             "ticks": ""
            },
            "colorscale": [
             [
              0,
              "#0d0887"
             ],
             [
              0.1111111111111111,
              "#46039f"
             ],
             [
              0.2222222222222222,
              "#7201a8"
             ],
             [
              0.3333333333333333,
              "#9c179e"
             ],
             [
              0.4444444444444444,
              "#bd3786"
             ],
             [
              0.5555555555555556,
              "#d8576b"
             ],
             [
              0.6666666666666666,
              "#ed7953"
             ],
             [
              0.7777777777777778,
              "#fb9f3a"
             ],
             [
              0.8888888888888888,
              "#fdca26"
             ],
             [
              1,
              "#f0f921"
             ]
            ],
            "type": "contour"
           }
          ],
          "contourcarpet": [
           {
            "colorbar": {
             "outlinewidth": 0,
             "ticks": ""
            },
            "type": "contourcarpet"
           }
          ],
          "heatmap": [
           {
            "colorbar": {
             "outlinewidth": 0,
             "ticks": ""
            },
            "colorscale": [
             [
              0,
              "#0d0887"
             ],
             [
              0.1111111111111111,
              "#46039f"
             ],
             [
              0.2222222222222222,
              "#7201a8"
             ],
             [
              0.3333333333333333,
              "#9c179e"
             ],
             [
              0.4444444444444444,
              "#bd3786"
             ],
             [
              0.5555555555555556,
              "#d8576b"
             ],
             [
              0.6666666666666666,
              "#ed7953"
             ],
             [
              0.7777777777777778,
              "#fb9f3a"
             ],
             [
              0.8888888888888888,
              "#fdca26"
             ],
             [
              1,
              "#f0f921"
             ]
            ],
            "type": "heatmap"
           }
          ],
          "histogram": [
           {
            "marker": {
             "pattern": {
              "fillmode": "overlay",
              "size": 10,
              "solidity": 0.2
             }
            },
            "type": "histogram"
           }
          ],
          "histogram2d": [
           {
            "colorbar": {
             "outlinewidth": 0,
             "ticks": ""
            },
            "colorscale": [
             [
              0,
              "#0d0887"
             ],
             [
              0.1111111111111111,
              "#46039f"
             ],
             [
              0.2222222222222222,
              "#7201a8"
             ],
             [
              0.3333333333333333,
              "#9c179e"
             ],
             [
              0.4444444444444444,
              "#bd3786"
             ],
             [
              0.5555555555555556,
              "#d8576b"
             ],
             [
              0.6666666666666666,
              "#ed7953"
             ],
             [
              0.7777777777777778,
              "#fb9f3a"
             ],
             [
              0.8888888888888888,
              "#fdca26"
             ],
             [
              1,
              "#f0f921"
             ]
            ],
            "type": "histogram2d"
           }
          ],
          "histogram2dcontour": [
           {
            "colorbar": {
             "outlinewidth": 0,
             "ticks": ""
            },
            "colorscale": [
             [
              0,
              "#0d0887"
             ],
             [
              0.1111111111111111,
              "#46039f"
             ],
             [
              0.2222222222222222,
              "#7201a8"
             ],
             [
              0.3333333333333333,
              "#9c179e"
             ],
             [
              0.4444444444444444,
              "#bd3786"
             ],
             [
              0.5555555555555556,
              "#d8576b"
             ],
             [
              0.6666666666666666,
              "#ed7953"
             ],
             [
              0.7777777777777778,
              "#fb9f3a"
             ],
             [
              0.8888888888888888,
              "#fdca26"
             ],
             [
              1,
              "#f0f921"
             ]
            ],
            "type": "histogram2dcontour"
           }
          ],
          "mesh3d": [
           {
            "colorbar": {
             "outlinewidth": 0,
             "ticks": ""
            },
            "type": "mesh3d"
           }
          ],
          "parcoords": [
           {
            "line": {
             "colorbar": {
              "outlinewidth": 0,
              "ticks": ""
             }
            },
            "type": "parcoords"
           }
          ],
          "pie": [
           {
            "automargin": true,
            "type": "pie"
           }
          ],
          "scatter": [
           {
            "fillpattern": {
             "fillmode": "overlay",
             "size": 10,
             "solidity": 0.2
            },
            "type": "scatter"
           }
          ],
          "scatter3d": [
           {
            "line": {
             "colorbar": {
              "outlinewidth": 0,
              "ticks": ""
             }
            },
            "marker": {
             "colorbar": {
              "outlinewidth": 0,
              "ticks": ""
             }
            },
            "type": "scatter3d"
           }
          ],
          "scattercarpet": [
           {
            "marker": {
             "colorbar": {
              "outlinewidth": 0,
              "ticks": ""
             }
            },
            "type": "scattercarpet"
           }
          ],
          "scattergeo": [
           {
            "marker": {
             "colorbar": {
              "outlinewidth": 0,
              "ticks": ""
             }
            },
            "type": "scattergeo"
           }
          ],
          "scattergl": [
           {
            "marker": {
             "colorbar": {
              "outlinewidth": 0,
              "ticks": ""
             }
            },
            "type": "scattergl"
           }
          ],
          "scattermap": [
           {
            "marker": {
             "colorbar": {
              "outlinewidth": 0,
              "ticks": ""
             }
            },
            "type": "scattermap"
           }
          ],
          "scattermapbox": [
           {
            "marker": {
             "colorbar": {
              "outlinewidth": 0,
              "ticks": ""
             }
            },
            "type": "scattermapbox"
           }
          ],
          "scatterpolar": [
           {
            "marker": {
             "colorbar": {
              "outlinewidth": 0,
              "ticks": ""
             }
            },
            "type": "scatterpolar"
           }
          ],
          "scatterpolargl": [
           {
            "marker": {
             "colorbar": {
              "outlinewidth": 0,
              "ticks": ""
             }
            },
            "type": "scatterpolargl"
           }
          ],
          "scatterternary": [
           {
            "marker": {
             "colorbar": {
              "outlinewidth": 0,
              "ticks": ""
             }
            },
            "type": "scatterternary"
           }
          ],
          "surface": [
           {
            "colorbar": {
             "outlinewidth": 0,
             "ticks": ""
            },
            "colorscale": [
             [
              0,
              "#0d0887"
             ],
             [
              0.1111111111111111,
              "#46039f"
             ],
             [
              0.2222222222222222,
              "#7201a8"
             ],
             [
              0.3333333333333333,
              "#9c179e"
             ],
             [
              0.4444444444444444,
              "#bd3786"
             ],
             [
              0.5555555555555556,
              "#d8576b"
             ],
             [
              0.6666666666666666,
              "#ed7953"
             ],
             [
              0.7777777777777778,
              "#fb9f3a"
             ],
             [
              0.8888888888888888,
              "#fdca26"
             ],
             [
              1,
              "#f0f921"
             ]
            ],
            "type": "surface"
           }
          ],
          "table": [
           {
            "cells": {
             "fill": {
              "color": "#EBF0F8"
             },
             "line": {
              "color": "white"
             }
            },
            "header": {
             "fill": {
              "color": "#C8D4E3"
             },
             "line": {
              "color": "white"
             }
            },
            "type": "table"
           }
          ]
         },
         "layout": {
          "annotationdefaults": {
           "arrowcolor": "#2a3f5f",
           "arrowhead": 0,
           "arrowwidth": 1
          },
          "autotypenumbers": "strict",
          "coloraxis": {
           "colorbar": {
            "outlinewidth": 0,
            "ticks": ""
           }
          },
          "colorscale": {
           "diverging": [
            [
             0,
             "#8e0152"
            ],
            [
             0.1,
             "#c51b7d"
            ],
            [
             0.2,
             "#de77ae"
            ],
            [
             0.3,
             "#f1b6da"
            ],
            [
             0.4,
             "#fde0ef"
            ],
            [
             0.5,
             "#f7f7f7"
            ],
            [
             0.6,
             "#e6f5d0"
            ],
            [
             0.7,
             "#b8e186"
            ],
            [
             0.8,
             "#7fbc41"
            ],
            [
             0.9,
             "#4d9221"
            ],
            [
             1,
             "#276419"
            ]
           ],
           "sequential": [
            [
             0,
             "#0d0887"
            ],
            [
             0.1111111111111111,
             "#46039f"
            ],
            [
             0.2222222222222222,
             "#7201a8"
            ],
            [
             0.3333333333333333,
             "#9c179e"
            ],
            [
             0.4444444444444444,
             "#bd3786"
            ],
            [
             0.5555555555555556,
             "#d8576b"
            ],
            [
             0.6666666666666666,
             "#ed7953"
            ],
            [
             0.7777777777777778,
             "#fb9f3a"
            ],
            [
             0.8888888888888888,
             "#fdca26"
            ],
            [
             1,
             "#f0f921"
            ]
           ],
           "sequentialminus": [
            [
             0,
             "#0d0887"
            ],
            [
             0.1111111111111111,
             "#46039f"
            ],
            [
             0.2222222222222222,
             "#7201a8"
            ],
            [
             0.3333333333333333,
             "#9c179e"
            ],
            [
             0.4444444444444444,
             "#bd3786"
            ],
            [
             0.5555555555555556,
             "#d8576b"
            ],
            [
             0.6666666666666666,
             "#ed7953"
            ],
            [
             0.7777777777777778,
             "#fb9f3a"
            ],
            [
             0.8888888888888888,
             "#fdca26"
            ],
            [
             1,
             "#f0f921"
            ]
           ]
          },
          "colorway": [
           "#636efa",
           "#EF553B",
           "#00cc96",
           "#ab63fa",
           "#FFA15A",
           "#19d3f3",
           "#FF6692",
           "#B6E880",
           "#FF97FF",
           "#FECB52"
          ],
          "font": {
           "color": "#2a3f5f"
          },
          "geo": {
           "bgcolor": "white",
           "lakecolor": "white",
           "landcolor": "#E5ECF6",
           "showlakes": true,
           "showland": true,
           "subunitcolor": "white"
          },
          "hoverlabel": {
           "align": "left"
          },
          "hovermode": "closest",
          "mapbox": {
           "style": "light"
          },
          "paper_bgcolor": "white",
          "plot_bgcolor": "#E5ECF6",
          "polar": {
           "angularaxis": {
            "gridcolor": "white",
            "linecolor": "white",
            "ticks": ""
           },
           "bgcolor": "#E5ECF6",
           "radialaxis": {
            "gridcolor": "white",
            "linecolor": "white",
            "ticks": ""
           }
          },
          "scene": {
           "xaxis": {
            "backgroundcolor": "#E5ECF6",
            "gridcolor": "white",
            "gridwidth": 2,
            "linecolor": "white",
            "showbackground": true,
            "ticks": "",
            "zerolinecolor": "white"
           },
           "yaxis": {
            "backgroundcolor": "#E5ECF6",
            "gridcolor": "white",
            "gridwidth": 2,
            "linecolor": "white",
            "showbackground": true,
            "ticks": "",
            "zerolinecolor": "white"
           },
           "zaxis": {
            "backgroundcolor": "#E5ECF6",
            "gridcolor": "white",
            "gridwidth": 2,
            "linecolor": "white",
            "showbackground": true,
            "ticks": "",
            "zerolinecolor": "white"
           }
          },
          "shapedefaults": {
           "line": {
            "color": "#2a3f5f"
           }
          },
          "ternary": {
           "aaxis": {
            "gridcolor": "white",
            "linecolor": "white",
            "ticks": ""
           },
           "baxis": {
            "gridcolor": "white",
            "linecolor": "white",
            "ticks": ""
           },
           "bgcolor": "#E5ECF6",
           "caxis": {
            "gridcolor": "white",
            "linecolor": "white",
            "ticks": ""
           }
          },
          "title": {
           "x": 0.05
          },
          "xaxis": {
           "automargin": true,
           "gridcolor": "white",
           "linecolor": "white",
           "ticks": "",
           "title": {
            "standoff": 15
           },
           "zerolinecolor": "white",
           "zerolinewidth": 2
          },
          "yaxis": {
           "automargin": true,
           "gridcolor": "white",
           "linecolor": "white",
           "ticks": "",
           "title": {
            "standoff": 15
           },
           "zerolinecolor": "white",
           "zerolinewidth": 2
          }
         }
        },
        "title": {
         "text": "🔮 Prévision de température – Tunis"
        },
        "xaxis": {
         "anchor": "y",
         "domain": [
          0,
          1
         ],
         "title": {
          "text": "Date"
         }
        },
        "yaxis": {
         "anchor": "x",
         "domain": [
          0,
          1
         ],
         "title": {
          "text": "Température (°C)"
         }
        }
       }
      }
     },
     "metadata": {},
     "output_type": "display_data"
    }
   ],
   "source": [
    "\n",
    "# 📊 Visualisation des prédictions avec Plotly\n",
    "fig = px.line()\n",
    "fig.add_scatter(x=forecast[\"ds\"], y=forecast[\"yhat\"], name=\"Prévision\")\n",
    "fig.add_scatter(x=df[\"ds\"], y=df[\"y\"], name=\"Temp réelle\")\n",
    "fig.update_layout(title=f\"🔮 Prévision de température – {ville}\", xaxis_title=\"Date\", yaxis_title=\"Température (°C)\")\n",
    "fig.show()\n"
   ]
  },
  {
   "cell_type": "code",
   "execution_count": 6,
   "id": "c1522aac",
   "metadata": {},
   "outputs": [
    {
     "name": "stdout",
     "output_type": "stream",
     "text": [
      "📉 MAE (Erreur absolue moyenne) : 0.43 °C\n"
     ]
    }
   ],
   "source": [
    "\n",
    "# Comparaison sur les points connus\n",
    "merged = pd.merge(df, forecast[[\"ds\", \"yhat\"]], on=\"ds\", how=\"left\")\n",
    "merged.dropna(inplace=True)\n",
    "mae = abs(merged[\"y\"] - merged[\"yhat\"]).mean()\n",
    "print(f\"📉 MAE (Erreur absolue moyenne) : {mae:.2f} °C\")\n"
   ]
  }
 ],
 "metadata": {
  "kernelspec": {
   "display_name": ".venv",
   "language": "python",
   "name": "python3"
  },
  "language_info": {
   "codemirror_mode": {
    "name": "ipython",
    "version": 3
   },
   "file_extension": ".py",
   "mimetype": "text/x-python",
   "name": "python",
   "nbconvert_exporter": "python",
   "pygments_lexer": "ipython3",
   "version": "3.12.2"
  }
 },
 "nbformat": 4,
 "nbformat_minor": 5
}
